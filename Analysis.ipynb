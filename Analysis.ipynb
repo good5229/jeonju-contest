{
 "cells": [
  {
   "cell_type": "code",
   "execution_count": 70,
   "metadata": {},
   "outputs": [],
   "source": [
    "import pandas as pd\n",
    "import numpy as np\n",
    "import folium\n",
    "import requests\n",
    "import json\n",
    "import pprint"
   ]
  },
  {
   "cell_type": "code",
   "execution_count": 71,
   "metadata": {},
   "outputs": [
    {
     "data": {
      "text/html": [
       "<div style=\"width:100%;\"><div style=\"position:relative;width:100%;height:0;padding-bottom:60%;\"><span style=\"color:#565656\">Make this Notebook Trusted to load map: File -> Trust Notebook</span><iframe src=\"about:blank\" style=\"position:absolute;width:100%;height:100%;left:0;top:0;border:none !important;\" data-html=%3C%21DOCTYPE%20html%3E%0A%3Chead%3E%20%20%20%20%0A%20%20%20%20%3Cmeta%20http-equiv%3D%22content-type%22%20content%3D%22text/html%3B%20charset%3DUTF-8%22%20/%3E%0A%20%20%20%20%0A%20%20%20%20%20%20%20%20%3Cscript%3E%0A%20%20%20%20%20%20%20%20%20%20%20%20L_NO_TOUCH%20%3D%20false%3B%0A%20%20%20%20%20%20%20%20%20%20%20%20L_DISABLE_3D%20%3D%20false%3B%0A%20%20%20%20%20%20%20%20%3C/script%3E%0A%20%20%20%20%0A%20%20%20%20%3Cstyle%3Ehtml%2C%20body%20%7Bwidth%3A%20100%25%3Bheight%3A%20100%25%3Bmargin%3A%200%3Bpadding%3A%200%3B%7D%3C/style%3E%0A%20%20%20%20%3Cstyle%3E%23map%20%7Bposition%3Aabsolute%3Btop%3A0%3Bbottom%3A0%3Bright%3A0%3Bleft%3A0%3B%7D%3C/style%3E%0A%20%20%20%20%3Cscript%20src%3D%22https%3A//cdn.jsdelivr.net/npm/leaflet%401.6.0/dist/leaflet.js%22%3E%3C/script%3E%0A%20%20%20%20%3Cscript%20src%3D%22https%3A//code.jquery.com/jquery-1.12.4.min.js%22%3E%3C/script%3E%0A%20%20%20%20%3Cscript%20src%3D%22https%3A//maxcdn.bootstrapcdn.com/bootstrap/3.2.0/js/bootstrap.min.js%22%3E%3C/script%3E%0A%20%20%20%20%3Cscript%20src%3D%22https%3A//cdnjs.cloudflare.com/ajax/libs/Leaflet.awesome-markers/2.0.2/leaflet.awesome-markers.js%22%3E%3C/script%3E%0A%20%20%20%20%3Clink%20rel%3D%22stylesheet%22%20href%3D%22https%3A//cdn.jsdelivr.net/npm/leaflet%401.6.0/dist/leaflet.css%22/%3E%0A%20%20%20%20%3Clink%20rel%3D%22stylesheet%22%20href%3D%22https%3A//maxcdn.bootstrapcdn.com/bootstrap/3.2.0/css/bootstrap.min.css%22/%3E%0A%20%20%20%20%3Clink%20rel%3D%22stylesheet%22%20href%3D%22https%3A//maxcdn.bootstrapcdn.com/bootstrap/3.2.0/css/bootstrap-theme.min.css%22/%3E%0A%20%20%20%20%3Clink%20rel%3D%22stylesheet%22%20href%3D%22https%3A//maxcdn.bootstrapcdn.com/font-awesome/4.6.3/css/font-awesome.min.css%22/%3E%0A%20%20%20%20%3Clink%20rel%3D%22stylesheet%22%20href%3D%22https%3A//cdnjs.cloudflare.com/ajax/libs/Leaflet.awesome-markers/2.0.2/leaflet.awesome-markers.css%22/%3E%0A%20%20%20%20%3Clink%20rel%3D%22stylesheet%22%20href%3D%22https%3A//cdn.jsdelivr.net/gh/python-visualization/folium/folium/templates/leaflet.awesome.rotate.min.css%22/%3E%0A%20%20%20%20%0A%20%20%20%20%20%20%20%20%20%20%20%20%3Cmeta%20name%3D%22viewport%22%20content%3D%22width%3Ddevice-width%2C%0A%20%20%20%20%20%20%20%20%20%20%20%20%20%20%20%20initial-scale%3D1.0%2C%20maximum-scale%3D1.0%2C%20user-scalable%3Dno%22%20/%3E%0A%20%20%20%20%20%20%20%20%20%20%20%20%3Cstyle%3E%0A%20%20%20%20%20%20%20%20%20%20%20%20%20%20%20%20%23map_f86033ac5cd34eb2b55b9eedb7855c67%20%7B%0A%20%20%20%20%20%20%20%20%20%20%20%20%20%20%20%20%20%20%20%20position%3A%20relative%3B%0A%20%20%20%20%20%20%20%20%20%20%20%20%20%20%20%20%20%20%20%20width%3A%20100.0%25%3B%0A%20%20%20%20%20%20%20%20%20%20%20%20%20%20%20%20%20%20%20%20height%3A%20100.0%25%3B%0A%20%20%20%20%20%20%20%20%20%20%20%20%20%20%20%20%20%20%20%20left%3A%200.0%25%3B%0A%20%20%20%20%20%20%20%20%20%20%20%20%20%20%20%20%20%20%20%20top%3A%200.0%25%3B%0A%20%20%20%20%20%20%20%20%20%20%20%20%20%20%20%20%7D%0A%20%20%20%20%20%20%20%20%20%20%20%20%3C/style%3E%0A%20%20%20%20%20%20%20%20%0A%3C/head%3E%0A%3Cbody%3E%20%20%20%20%0A%20%20%20%20%0A%20%20%20%20%20%20%20%20%20%20%20%20%3Cdiv%20class%3D%22folium-map%22%20id%3D%22map_f86033ac5cd34eb2b55b9eedb7855c67%22%20%3E%3C/div%3E%0A%20%20%20%20%20%20%20%20%0A%3C/body%3E%0A%3Cscript%3E%20%20%20%20%0A%20%20%20%20%0A%20%20%20%20%20%20%20%20%20%20%20%20var%20map_f86033ac5cd34eb2b55b9eedb7855c67%20%3D%20L.map%28%0A%20%20%20%20%20%20%20%20%20%20%20%20%20%20%20%20%22map_f86033ac5cd34eb2b55b9eedb7855c67%22%2C%0A%20%20%20%20%20%20%20%20%20%20%20%20%20%20%20%20%7B%0A%20%20%20%20%20%20%20%20%20%20%20%20%20%20%20%20%20%20%20%20center%3A%20%5B35.83%2C%20127.125%5D%2C%0A%20%20%20%20%20%20%20%20%20%20%20%20%20%20%20%20%20%20%20%20crs%3A%20L.CRS.EPSG3857%2C%0A%20%20%20%20%20%20%20%20%20%20%20%20%20%20%20%20%20%20%20%20zoom%3A%2013%2C%0A%20%20%20%20%20%20%20%20%20%20%20%20%20%20%20%20%20%20%20%20zoomControl%3A%20true%2C%0A%20%20%20%20%20%20%20%20%20%20%20%20%20%20%20%20%20%20%20%20preferCanvas%3A%20false%2C%0A%20%20%20%20%20%20%20%20%20%20%20%20%20%20%20%20%7D%0A%20%20%20%20%20%20%20%20%20%20%20%20%29%3B%0A%0A%20%20%20%20%20%20%20%20%20%20%20%20%0A%0A%20%20%20%20%20%20%20%20%0A%20%20%20%20%0A%20%20%20%20%20%20%20%20%20%20%20%20var%20tile_layer_505b478d4bdb4ed783f86d7533e29632%20%3D%20L.tileLayer%28%0A%20%20%20%20%20%20%20%20%20%20%20%20%20%20%20%20%22https%3A//%7Bs%7D.tile.openstreetmap.org/%7Bz%7D/%7Bx%7D/%7By%7D.png%22%2C%0A%20%20%20%20%20%20%20%20%20%20%20%20%20%20%20%20%7B%22attribution%22%3A%20%22Data%20by%20%5Cu0026copy%3B%20%5Cu003ca%20href%3D%5C%22http%3A//openstreetmap.org%5C%22%5Cu003eOpenStreetMap%5Cu003c/a%5Cu003e%2C%20under%20%5Cu003ca%20href%3D%5C%22http%3A//www.openstreetmap.org/copyright%5C%22%5Cu003eODbL%5Cu003c/a%5Cu003e.%22%2C%20%22detectRetina%22%3A%20false%2C%20%22maxNativeZoom%22%3A%2018%2C%20%22maxZoom%22%3A%2018%2C%20%22minZoom%22%3A%200%2C%20%22noWrap%22%3A%20false%2C%20%22opacity%22%3A%201%2C%20%22subdomains%22%3A%20%22abc%22%2C%20%22tms%22%3A%20false%7D%0A%20%20%20%20%20%20%20%20%20%20%20%20%29.addTo%28map_f86033ac5cd34eb2b55b9eedb7855c67%29%3B%0A%20%20%20%20%20%20%20%20%0A%3C/script%3E onload=\"this.contentDocument.open();this.contentDocument.write(    decodeURIComponent(this.getAttribute('data-html')));this.contentDocument.close();\" allowfullscreen webkitallowfullscreen mozallowfullscreen></iframe></div></div>"
      ],
      "text/plain": [
       "<folium.folium.Map at 0x1d9c96a32e0>"
      ]
     },
     "metadata": {},
     "output_type": "display_data"
    }
   ],
   "source": []
  },
  {
   "cell_type": "code",
   "execution_count": 30,
   "metadata": {},
   "outputs": [
    {
     "data": {
      "text/html": [
       "<div>\n",
       "<style scoped>\n",
       "    .dataframe tbody tr th:only-of-type {\n",
       "        vertical-align: middle;\n",
       "    }\n",
       "\n",
       "    .dataframe tbody tr th {\n",
       "        vertical-align: top;\n",
       "    }\n",
       "\n",
       "    .dataframe thead th {\n",
       "        text-align: right;\n",
       "    }\n",
       "</style>\n",
       "<table border=\"1\" class=\"dataframe\">\n",
       "  <thead>\n",
       "    <tr style=\"text-align: right;\">\n",
       "      <th></th>\n",
       "      <th>건물명(상호명)</th>\n",
       "      <th>건물위치</th>\n",
       "      <th>주택유형구분</th>\n",
       "      <th>세대수(객실수)</th>\n",
       "      <th>건축연도</th>\n",
       "    </tr>\n",
       "  </thead>\n",
       "  <tbody>\n",
       "    <tr>\n",
       "      <th>0</th>\n",
       "      <td>NaN</td>\n",
       "      <td>전라북도 전주시 덕진구 고랑동 819-5</td>\n",
       "      <td>다세대주택(3세대)</td>\n",
       "      <td>3</td>\n",
       "      <td>19920810</td>\n",
       "    </tr>\n",
       "    <tr>\n",
       "      <th>1</th>\n",
       "      <td>NaN</td>\n",
       "      <td>전라북도 전주시 덕진구 금암동 1569-6</td>\n",
       "      <td>다세대주택(3세대)</td>\n",
       "      <td>6</td>\n",
       "      <td>19891206</td>\n",
       "    </tr>\n",
       "    <tr>\n",
       "      <th>2</th>\n",
       "      <td>NaN</td>\n",
       "      <td>전라북도 전주시 덕진구 금암동 1588-23</td>\n",
       "      <td>다세대주택(3세대)</td>\n",
       "      <td>3</td>\n",
       "      <td>19890803</td>\n",
       "    </tr>\n",
       "    <tr>\n",
       "      <th>3</th>\n",
       "      <td>휴엔하임 주상복합 아파트</td>\n",
       "      <td>전라북도 전주시 덕진구 금암동 1639-1</td>\n",
       "      <td>공동주택(아파트), 업무시설(오피스텔), 근린생활시설</td>\n",
       "      <td>30</td>\n",
       "      <td>20161128</td>\n",
       "    </tr>\n",
       "    <tr>\n",
       "      <th>4</th>\n",
       "      <td>NaN</td>\n",
       "      <td>전라북도 전주시 덕진구 금암동 525-83</td>\n",
       "      <td>다세대주택</td>\n",
       "      <td>4</td>\n",
       "      <td>19891121</td>\n",
       "    </tr>\n",
       "  </tbody>\n",
       "</table>\n",
       "</div>"
      ],
      "text/plain": [
       "        건물명(상호명)                      건물위치                         주택유형구분  \\\n",
       "0            NaN    전라북도 전주시 덕진구 고랑동 819-5                     다세대주택(3세대)   \n",
       "1            NaN   전라북도 전주시 덕진구 금암동 1569-6                     다세대주택(3세대)   \n",
       "2            NaN  전라북도 전주시 덕진구 금암동 1588-23                     다세대주택(3세대)   \n",
       "3  휴엔하임 주상복합 아파트   전라북도 전주시 덕진구 금암동 1639-1  공동주택(아파트), 업무시설(오피스텔), 근린생활시설   \n",
       "4            NaN   전라북도 전주시 덕진구 금암동 525-83                          다세대주택   \n",
       "\n",
       "   세대수(객실수)      건축연도  \n",
       "0         3  19920810  \n",
       "1         6  19891206  \n",
       "2         3  19890803  \n",
       "3        30  20161128  \n",
       "4         4  19891121  "
      ]
     },
     "execution_count": 30,
     "metadata": {},
     "output_type": "execute_result"
    }
   ],
   "source": [
    "room_data = pd.read_csv('room.csv',encoding='CP949')\n",
    "room_data.head()"
   ]
  },
  {
   "cell_type": "code",
   "execution_count": 39,
   "metadata": {},
   "outputs": [
    {
     "data": {
      "text/html": [
       "<div>\n",
       "<style scoped>\n",
       "    .dataframe tbody tr th:only-of-type {\n",
       "        vertical-align: middle;\n",
       "    }\n",
       "\n",
       "    .dataframe tbody tr th {\n",
       "        vertical-align: top;\n",
       "    }\n",
       "\n",
       "    .dataframe thead th {\n",
       "        text-align: right;\n",
       "    }\n",
       "</style>\n",
       "<table border=\"1\" class=\"dataframe\">\n",
       "  <thead>\n",
       "    <tr style=\"text-align: right;\">\n",
       "      <th></th>\n",
       "      <th>세대수(객실수)</th>\n",
       "    </tr>\n",
       "  </thead>\n",
       "  <tbody>\n",
       "    <tr>\n",
       "      <th>count</th>\n",
       "      <td>8734.000000</td>\n",
       "    </tr>\n",
       "    <tr>\n",
       "      <th>mean</th>\n",
       "      <td>8.135791</td>\n",
       "    </tr>\n",
       "    <tr>\n",
       "      <th>std</th>\n",
       "      <td>11.724445</td>\n",
       "    </tr>\n",
       "    <tr>\n",
       "      <th>min</th>\n",
       "      <td>0.000000</td>\n",
       "    </tr>\n",
       "    <tr>\n",
       "      <th>25%</th>\n",
       "      <td>3.000000</td>\n",
       "    </tr>\n",
       "    <tr>\n",
       "      <th>50%</th>\n",
       "      <td>8.000000</td>\n",
       "    </tr>\n",
       "    <tr>\n",
       "      <th>75%</th>\n",
       "      <td>11.000000</td>\n",
       "    </tr>\n",
       "    <tr>\n",
       "      <th>max</th>\n",
       "      <td>826.000000</td>\n",
       "    </tr>\n",
       "  </tbody>\n",
       "</table>\n",
       "</div>"
      ],
      "text/plain": [
       "          세대수(객실수)\n",
       "count  8734.000000\n",
       "mean      8.135791\n",
       "std      11.724445\n",
       "min       0.000000\n",
       "25%       3.000000\n",
       "50%       8.000000\n",
       "75%      11.000000\n",
       "max     826.000000"
      ]
     },
     "execution_count": 39,
     "metadata": {},
     "output_type": "execute_result"
    }
   ],
   "source": [
    "room_data.describe()"
   ]
  },
  {
   "cell_type": "code",
   "execution_count": 99,
   "metadata": {},
   "outputs": [
    {
     "name": "stdout",
     "output_type": "stream",
     "text": [
      "전라북도 전주시 완산구 교동 65-8 {'response': {'service': {'name': 'address', 'version': '2.0', 'operation': 'getCoord', 'time': '1076(ms)'}, 'status': 'NOT_FOUND', 'record': {'total': '0', 'current': '0'}, 'page': {'total': '1', 'current': '1', 'size': '10'}}}\n",
      "전라북도 전주시 덕진구 덕진동1가 1314-216 {'response': {'service': {'name': 'address', 'version': '2.0', 'operation': 'getCoord', 'time': '1366(ms)'}, 'status': 'NOT_FOUND', 'record': {'total': '0', 'current': '0'}, 'page': {'total': '1', 'current': '1', 'size': '10'}}}\n",
      "전라북도 전주시 덕진구 만성동 707-23 {'response': {'service': {'name': 'address', 'version': '2.0', 'operation': 'getCoord', 'time': '1208(ms)'}, 'status': 'NOT_FOUND', 'record': {'total': '0', 'current': '0'}, 'page': {'total': '1', 'current': '1', 'size': '10'}}}\n",
      "전라북도 전주시 덕진구 송천동1가 520-7 {'response': {'service': {'name': 'address', 'version': '2.0', 'operation': 'getCoord', 'time': '1342(ms)'}, 'status': 'NOT_FOUND', 'record': {'total': '0', 'current': '0'}, 'page': {'total': '1', 'current': '1', 'size': '10'}}}\n",
      "전라북도 전주시 덕진구 우아동2가 1570-18 {'response': {'service': {'name': 'address', 'version': '2.0', 'operation': 'getCoord', 'time': '1475(ms)'}, 'status': 'NOT_FOUND', 'record': {'total': '0', 'current': '0'}, 'page': {'total': '1', 'current': '1', 'size': '10'}}}\n",
      "전라북도 전주시 덕진구 인후동1가 726-27 {'response': {'service': {'name': 'address', 'version': '2.0', 'operation': 'getCoord', 'time': '1437(ms)'}, 'status': 'NOT_FOUND', 'record': {'total': '0', 'current': '0'}, 'page': {'total': '1', 'current': '1', 'size': '10'}}}\n",
      "전라북도 전주시 덕진구 중동 6-352 {'response': {'service': {'name': 'address', 'version': '2.0', 'operation': 'getCoord', 'time': '1080(ms)'}, 'status': 'NOT_FOUND', 'record': {'total': '0', 'current': '0'}, 'page': {'total': '1', 'current': '1', 'size': '10'}}}\n",
      "전라북도 전주시 덕진구 중동 6-395 {'response': {'service': {'name': 'address', 'version': '2.0', 'operation': 'getCoord', 'time': '1179(ms)'}, 'status': 'NOT_FOUND', 'record': {'total': '0', 'current': '0'}, 'page': {'total': '1', 'current': '1', 'size': '10'}}}\n",
      "전라북도 전주시 덕진구 팔복동3가 13-9 {'response': {'service': {'name': 'address', 'version': '2.0', 'operation': 'getCoord', 'time': '1532(ms)'}, 'status': 'NOT_FOUND', 'record': {'total': '0', 'current': '0'}, 'page': {'total': '1', 'current': '1', 'size': '10'}}}\n",
      "전라북도 전주시 완산구 동완산동 33-17 {'response': {'service': {'name': 'address', 'version': '2.0', 'operation': 'getCoord', 'time': '1133(ms)'}, 'status': 'NOT_FOUND', 'record': {'total': '0', 'current': '0'}, 'page': {'total': '1', 'current': '1', 'size': '10'}}}\n",
      "전라북도 전주시 완산구 동완산동 46-7 {'response': {'service': {'name': 'address', 'version': '2.0', 'operation': 'getCoord', 'time': '1615(ms)'}, 'status': 'NOT_FOUND', 'record': {'total': '0', 'current': '0'}, 'page': {'total': '1', 'current': '1', 'size': '10'}}}\n"
     ]
    },
    {
     "ename": "OSError",
     "evalue": "[Errno 22] Invalid argument",
     "output_type": "error",
     "traceback": [
      "\u001b[1;31m---------------------------------------------------------------------------\u001b[0m",
      "\u001b[1;31mOSError\u001b[0m                                   Traceback (most recent call last)",
      "\u001b[1;32m<ipython-input-99-2b1799c77368>\u001b[0m in \u001b[0;36m<module>\u001b[1;34m\u001b[0m\n\u001b[0;32m     26\u001b[0m         \u001b[0mf\u001b[0m\u001b[1;33m.\u001b[0m\u001b[0mwrite\u001b[0m\u001b[1;33m(\u001b[0m\u001b[0mstr\u001b[0m\u001b[1;33m(\u001b[0m\u001b[0my\u001b[0m\u001b[1;33m)\u001b[0m\u001b[1;33m)\u001b[0m\u001b[1;33m\u001b[0m\u001b[1;33m\u001b[0m\u001b[0m\n\u001b[0;32m     27\u001b[0m         \u001b[0mf\u001b[0m\u001b[1;33m.\u001b[0m\u001b[0mwrite\u001b[0m\u001b[1;33m(\u001b[0m\u001b[1;34m'\\n'\u001b[0m\u001b[1;33m)\u001b[0m\u001b[1;33m\u001b[0m\u001b[1;33m\u001b[0m\u001b[0m\n\u001b[1;32m---> 28\u001b[1;33m         \u001b[0mf\u001b[0m\u001b[1;33m.\u001b[0m\u001b[0mclose\u001b[0m\u001b[1;33m(\u001b[0m\u001b[1;33m)\u001b[0m\u001b[1;33m\u001b[0m\u001b[1;33m\u001b[0m\u001b[0m\n\u001b[0m\u001b[0;32m     29\u001b[0m     \u001b[1;32melse\u001b[0m\u001b[1;33m:\u001b[0m\u001b[1;33m\u001b[0m\u001b[1;33m\u001b[0m\u001b[0m\n\u001b[0;32m     30\u001b[0m         \u001b[0mprint\u001b[0m\u001b[1;33m(\u001b[0m\u001b[0mlocation\u001b[0m\u001b[1;33m,\u001b[0m \u001b[0mresponse\u001b[0m\u001b[1;33m.\u001b[0m\u001b[0mjson\u001b[0m\u001b[1;33m(\u001b[0m\u001b[1;33m)\u001b[0m\u001b[1;33m)\u001b[0m\u001b[1;33m\u001b[0m\u001b[1;33m\u001b[0m\u001b[0m\n",
      "\u001b[1;31mOSError\u001b[0m: [Errno 22] Invalid argument"
     ]
    }
   ],
   "source": [
    "## TODO\n",
    "## 건물 위치를 참조하여 folium에 좌표 찍기\n",
    "## 건축 연도를 참조하여 room_data에 신축 / 준신축 / 보통 / 재건축필요 등의 등급으로 분류\n",
    "room_data['건물위치']\n",
    "key = \"7F8A26C5-7C0A-318B-A521-FE1AA35942DB\"\n",
    "arr = []\n",
    "# for j in room_data['건물위치'][0]:\n",
    "# location = room_data['건물위치'][0]\n",
    "# print(location)\n",
    "# response = requests.get(f\"http://api.vworld.kr/req/address?service=address&request=getCoord&key={key}&address={location}&type=PARCEL\")\n",
    "# print(response.json())\n",
    "arr = []\n",
    "f = open(\"./loc.txt\", 'w')\n",
    "f.close()\n",
    "import time\n",
    "for i in room_data['건물위치']:\n",
    "    f = open(\"./loc.txt\", 'a')\n",
    "    location = i.strip()\n",
    "    response = requests.get(f\"http://api.vworld.kr/req/address?service=address&request=getCoord&key={key}&address={location}&type=PARCEL\")\n",
    "    if 'result' in response.json()['response']:\n",
    "        x= float(response.json()['response']['result']['point']['x'])\n",
    "        y = float(response.json()['response']['result']['point']['y'])\n",
    "        arr.append([float(x),float(y)])\n",
    "        f.write(str(x))\n",
    "        f.write(',')\n",
    "        f.write(str(y))\n",
    "        f.write('\\n')\n",
    "        f.close()\n",
    "    else:\n",
    "        print(location, response.json())\n",
    "    time.sleep(0.25)"
   ]
  },
  {
   "cell_type": "code",
   "execution_count": 100,
   "metadata": {},
   "outputs": [],
   "source": [
    "f = open('./loc.txt', 'r')\n",
    "lines = f.readlines()\n",
    "map1 = folium.Map(location=[35.83001,127.125001], zoom_start=13)\n",
    "for line in lines:\n",
    "    x,y = map(float, line.split(','))\n",
    "    folium.Marker([y, x], popup='원룸', icon=folium.Icon(color='red',icon='info-sign')).add_to(map1)\n",
    "    folium.CircleMarker([y, x], radius=30, color='#3186cc', fill_color='#3186cc', popup='원룸').add_to(map1)\n",
    "map1.save('map1.html')"
   ]
  },
  {
   "cell_type": "code",
   "execution_count": 85,
   "metadata": {},
   "outputs": [],
   "source": []
  },
  {
   "cell_type": "code",
   "execution_count": null,
   "metadata": {},
   "outputs": [],
   "source": []
  }
 ],
 "metadata": {
  "kernelspec": {
   "display_name": "Python 3",
   "language": "python",
   "name": "python3"
  },
  "language_info": {
   "codemirror_mode": {
    "name": "ipython",
    "version": 3
   },
   "file_extension": ".py",
   "mimetype": "text/x-python",
   "name": "python",
   "nbconvert_exporter": "python",
   "pygments_lexer": "ipython3",
   "version": "3.8.5"
  }
 },
 "nbformat": 4,
 "nbformat_minor": 4
}
