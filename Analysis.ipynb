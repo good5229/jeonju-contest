{
 "cells": [
  {
   "cell_type": "code",
   "execution_count": 2,
   "metadata": {},
   "outputs": [],
   "source": [
    "import pandas as pd\n",
    "import numpy as np\n",
    "import folium\n",
    "import requests\n",
    "import json\n",
    "import pprint\n",
    "import datetime as dt\n",
    "import re"
   ]
  },
  {
   "cell_type": "code",
   "execution_count": 3,
   "metadata": {
    "scrolled": true
   },
   "outputs": [
    {
     "data": {
      "text/html": [
       "<div>\n",
       "<style scoped>\n",
       "    .dataframe tbody tr th:only-of-type {\n",
       "        vertical-align: middle;\n",
       "    }\n",
       "\n",
       "    .dataframe tbody tr th {\n",
       "        vertical-align: top;\n",
       "    }\n",
       "\n",
       "    .dataframe thead th {\n",
       "        text-align: right;\n",
       "    }\n",
       "</style>\n",
       "<table border=\"1\" class=\"dataframe\">\n",
       "  <thead>\n",
       "    <tr style=\"text-align: right;\">\n",
       "      <th></th>\n",
       "      <th>건물명(상호명)</th>\n",
       "      <th>건물위치</th>\n",
       "      <th>주택유형구분</th>\n",
       "      <th>세대수(객실수)</th>\n",
       "      <th>건축연도</th>\n",
       "    </tr>\n",
       "  </thead>\n",
       "  <tbody>\n",
       "    <tr>\n",
       "      <th>0</th>\n",
       "      <td>NaN</td>\n",
       "      <td>전라북도 전주시 덕진구 고랑동 819-5</td>\n",
       "      <td>다세대주택(3세대)</td>\n",
       "      <td>3</td>\n",
       "      <td>19920810</td>\n",
       "    </tr>\n",
       "    <tr>\n",
       "      <th>1</th>\n",
       "      <td>NaN</td>\n",
       "      <td>전라북도 전주시 덕진구 금암동 1569-6</td>\n",
       "      <td>다세대주택(3세대)</td>\n",
       "      <td>6</td>\n",
       "      <td>19891206</td>\n",
       "    </tr>\n",
       "    <tr>\n",
       "      <th>2</th>\n",
       "      <td>NaN</td>\n",
       "      <td>전라북도 전주시 덕진구 금암동 1588-23</td>\n",
       "      <td>다세대주택(3세대)</td>\n",
       "      <td>3</td>\n",
       "      <td>19890803</td>\n",
       "    </tr>\n",
       "    <tr>\n",
       "      <th>3</th>\n",
       "      <td>휴엔하임 주상복합 아파트</td>\n",
       "      <td>전라북도 전주시 덕진구 금암동 1639-1</td>\n",
       "      <td>공동주택(아파트), 업무시설(오피스텔), 근린생활시설</td>\n",
       "      <td>30</td>\n",
       "      <td>20161128</td>\n",
       "    </tr>\n",
       "    <tr>\n",
       "      <th>4</th>\n",
       "      <td>NaN</td>\n",
       "      <td>전라북도 전주시 덕진구 금암동 525-83</td>\n",
       "      <td>다세대주택</td>\n",
       "      <td>4</td>\n",
       "      <td>19891121</td>\n",
       "    </tr>\n",
       "  </tbody>\n",
       "</table>\n",
       "</div>"
      ],
      "text/plain": [
       "        건물명(상호명)                      건물위치                         주택유형구분  \\\n",
       "0            NaN    전라북도 전주시 덕진구 고랑동 819-5                     다세대주택(3세대)   \n",
       "1            NaN   전라북도 전주시 덕진구 금암동 1569-6                     다세대주택(3세대)   \n",
       "2            NaN  전라북도 전주시 덕진구 금암동 1588-23                     다세대주택(3세대)   \n",
       "3  휴엔하임 주상복합 아파트   전라북도 전주시 덕진구 금암동 1639-1  공동주택(아파트), 업무시설(오피스텔), 근린생활시설   \n",
       "4            NaN   전라북도 전주시 덕진구 금암동 525-83                          다세대주택   \n",
       "\n",
       "   세대수(객실수)      건축연도  \n",
       "0         3  19920810  \n",
       "1         6  19891206  \n",
       "2         3  19890803  \n",
       "3        30  20161128  \n",
       "4         4  19891121  "
      ]
     },
     "execution_count": 3,
     "metadata": {},
     "output_type": "execute_result"
    }
   ],
   "source": [
    "room_data = pd.read_csv('room.csv',encoding='CP949')\n",
    "room_data.head()"
   ]
  },
  {
   "cell_type": "code",
   "execution_count": 4,
   "metadata": {},
   "outputs": [
    {
     "data": {
      "text/plain": [
       "3      1332\n",
       "10     1066\n",
       "11      788\n",
       "9       643\n",
       "4       616\n",
       "5       576\n",
       "8       542\n",
       "2       497\n",
       "6       423\n",
       "12      349\n",
       "7       302\n",
       "15      296\n",
       "13      246\n",
       "18      201\n",
       "1       192\n",
       "0       169\n",
       "14      134\n",
       "16      129\n",
       "19      111\n",
       "17       91\n",
       "30        4\n",
       "20        3\n",
       "54        2\n",
       "159       2\n",
       "56        2\n",
       "24        1\n",
       "48        1\n",
       "288       1\n",
       "182       1\n",
       "110       1\n",
       "73        1\n",
       "172       1\n",
       "44        1\n",
       "34        1\n",
       "826       1\n",
       "77        1\n",
       "53        1\n",
       "27        1\n",
       "51        1\n",
       "167       1\n",
       "276       1\n",
       "28        1\n",
       "191       1\n",
       "Name: 세대수(객실수), dtype: int64"
      ]
     },
     "execution_count": 4,
     "metadata": {},
     "output_type": "execute_result"
    }
   ],
   "source": [
    "room_data['세대수(객실수)'].value_counts()"
   ]
  },
  {
   "cell_type": "code",
   "execution_count": 5,
   "metadata": {
    "scrolled": true
   },
   "outputs": [
    {
     "data": {
      "text/plain": [
       "단독주택                        3751\n",
       "단독주택,제1종근린생활시설               679\n",
       "다가구주택                        494\n",
       "단독주택(다가구주택)                  417\n",
       "단독주택(3가구)                    196\n",
       "                            ... \n",
       "주택, 다세대주택(2세대), 소매점            1\n",
       "1종근린생활시설, 단독주택(2가구)            1\n",
       "다가구&제2종근린생활시설(사무소)             1\n",
       "다가구주택 및 제2종 근린생활시설             1\n",
       "주택, 근린생활시설(점포), 대피소, 화장실       1\n",
       "Name: 주택유형구분, Length: 741, dtype: int64"
      ]
     },
     "execution_count": 5,
     "metadata": {},
     "output_type": "execute_result"
    }
   ],
   "source": [
    "room_data['주택유형구분'].value_counts()"
   ]
  },
  {
   "cell_type": "code",
   "execution_count": 6,
   "metadata": {
    "scrolled": true
   },
   "outputs": [
    {
     "data": {
      "text/html": [
       "<div>\n",
       "<style scoped>\n",
       "    .dataframe tbody tr th:only-of-type {\n",
       "        vertical-align: middle;\n",
       "    }\n",
       "\n",
       "    .dataframe tbody tr th {\n",
       "        vertical-align: top;\n",
       "    }\n",
       "\n",
       "    .dataframe thead th {\n",
       "        text-align: right;\n",
       "    }\n",
       "</style>\n",
       "<table border=\"1\" class=\"dataframe\">\n",
       "  <thead>\n",
       "    <tr style=\"text-align: right;\">\n",
       "      <th></th>\n",
       "      <th>세대수(객실수)</th>\n",
       "    </tr>\n",
       "  </thead>\n",
       "  <tbody>\n",
       "    <tr>\n",
       "      <th>count</th>\n",
       "      <td>8734.000000</td>\n",
       "    </tr>\n",
       "    <tr>\n",
       "      <th>mean</th>\n",
       "      <td>8.135791</td>\n",
       "    </tr>\n",
       "    <tr>\n",
       "      <th>std</th>\n",
       "      <td>11.724445</td>\n",
       "    </tr>\n",
       "    <tr>\n",
       "      <th>min</th>\n",
       "      <td>0.000000</td>\n",
       "    </tr>\n",
       "    <tr>\n",
       "      <th>25%</th>\n",
       "      <td>3.000000</td>\n",
       "    </tr>\n",
       "    <tr>\n",
       "      <th>50%</th>\n",
       "      <td>8.000000</td>\n",
       "    </tr>\n",
       "    <tr>\n",
       "      <th>75%</th>\n",
       "      <td>11.000000</td>\n",
       "    </tr>\n",
       "    <tr>\n",
       "      <th>max</th>\n",
       "      <td>826.000000</td>\n",
       "    </tr>\n",
       "  </tbody>\n",
       "</table>\n",
       "</div>"
      ],
      "text/plain": [
       "          세대수(객실수)\n",
       "count  8734.000000\n",
       "mean      8.135791\n",
       "std      11.724445\n",
       "min       0.000000\n",
       "25%       3.000000\n",
       "50%       8.000000\n",
       "75%      11.000000\n",
       "max     826.000000"
      ]
     },
     "execution_count": 6,
     "metadata": {},
     "output_type": "execute_result"
    }
   ],
   "source": [
    "room_data.describe()"
   ]
  },
  {
   "cell_type": "code",
   "execution_count": 7,
   "metadata": {},
   "outputs": [
    {
     "data": {
      "text/html": [
       "<div>\n",
       "<style scoped>\n",
       "    .dataframe tbody tr th:only-of-type {\n",
       "        vertical-align: middle;\n",
       "    }\n",
       "\n",
       "    .dataframe tbody tr th {\n",
       "        vertical-align: top;\n",
       "    }\n",
       "\n",
       "    .dataframe thead th {\n",
       "        text-align: right;\n",
       "    }\n",
       "</style>\n",
       "<table border=\"1\" class=\"dataframe\">\n",
       "  <thead>\n",
       "    <tr style=\"text-align: right;\">\n",
       "      <th></th>\n",
       "      <th>세대수(객실수)</th>\n",
       "      <th>const_year_point</th>\n",
       "    </tr>\n",
       "  </thead>\n",
       "  <tbody>\n",
       "    <tr>\n",
       "      <th>count</th>\n",
       "      <td>8555.000000</td>\n",
       "      <td>8555.000000</td>\n",
       "    </tr>\n",
       "    <tr>\n",
       "      <th>mean</th>\n",
       "      <td>8.301344</td>\n",
       "      <td>2.547165</td>\n",
       "    </tr>\n",
       "    <tr>\n",
       "      <th>std</th>\n",
       "      <td>11.789038</td>\n",
       "      <td>1.858123</td>\n",
       "    </tr>\n",
       "    <tr>\n",
       "      <th>min</th>\n",
       "      <td>1.000000</td>\n",
       "      <td>-10.000000</td>\n",
       "    </tr>\n",
       "    <tr>\n",
       "      <th>25%</th>\n",
       "      <td>4.000000</td>\n",
       "      <td>1.000000</td>\n",
       "    </tr>\n",
       "    <tr>\n",
       "      <th>50%</th>\n",
       "      <td>8.000000</td>\n",
       "      <td>3.000000</td>\n",
       "    </tr>\n",
       "    <tr>\n",
       "      <th>75%</th>\n",
       "      <td>11.000000</td>\n",
       "      <td>4.000000</td>\n",
       "    </tr>\n",
       "    <tr>\n",
       "      <th>max</th>\n",
       "      <td>826.000000</td>\n",
       "      <td>5.000000</td>\n",
       "    </tr>\n",
       "  </tbody>\n",
       "</table>\n",
       "</div>"
      ],
      "text/plain": [
       "          세대수(객실수)  const_year_point\n",
       "count  8555.000000       8555.000000\n",
       "mean      8.301344          2.547165\n",
       "std      11.789038          1.858123\n",
       "min       1.000000        -10.000000\n",
       "25%       4.000000          1.000000\n",
       "50%       8.000000          3.000000\n",
       "75%      11.000000          4.000000\n",
       "max     826.000000          5.000000"
      ]
     },
     "execution_count": 7,
     "metadata": {},
     "output_type": "execute_result"
    }
   ],
   "source": [
    "p = re.compile(r'\\d+')\n",
    "room_data['건축연도'] = room_data['건축연도'].map(lambda x: x if p.search(x) else '0')\n",
    "room_data.drop(room_data[room_data['건축연도'].map(lambda x:int(x[:4])) < 1945].index, inplace=True) #해방 전 옛 건물들 제거\n",
    "room_data.drop(room_data[room_data['세대수(객실수)']<1].index, inplace=True) #세대수가 0인 것 제거\n",
    "room_data['const_year_point'] = 5-(dt.datetime.today().year-room_data['건축연도'].map(lambda x: int(x[:4])))//5\n",
    "\n",
    "room_data.describe()"
   ]
  },
  {
   "cell_type": "code",
   "execution_count": null,
   "metadata": {},
   "outputs": [],
   "source": [
    "# TODO\n",
    "# 건물 위치를 참조하여 folium에 좌표 찍기\n",
    "# 건축 연도를 참조하여 room_data에 신축 / 준신축 / 보통 / 재건축필요 등의 등급으로 분류\n",
    "\n",
    "room_data['건물위치']\n",
    "key = \"7F8A26C5-7C0A-318B-A521-FE1AA35942DB\"\n",
    "arr = []\n",
    "f = open(\"./loc_all.txt\", 'w')\n",
    "f.close()\n",
    "import time\n",
    "for i in room_data['건물위치']:\n",
    "    f = open(\"./loc_all.txt\", 'a')\n",
    "    location = i.strip()\n",
    "    response = requests.get(f\"http://api.vworld.kr/req/address?service=address&request=getCoord&key={key}&address={location}&type=PARCEL\")\n",
    "    if 'result' in response.json()['response']:\n",
    "        x= float(response.json()['response']['result']['point']['x'])\n",
    "        y = float(response.json()['response']['result']['point']['y'])\n",
    "        arr.append([float(x),float(y)])\n",
    "        f.write(str(x))\n",
    "        f.write(',')\n",
    "        f.write(str(y))\n",
    "        f.write(',')\n",
    "        f.write(location)\n",
    "        f.write('\\n')\n",
    "        f.close()\n",
    "    else:\n",
    "        print(location, response.json())\n",
    "    time.sleep(0.05)"
   ]
  },
  {
   "cell_type": "code",
   "execution_count": 8,
   "metadata": {},
   "outputs": [],
   "source": [
    "f = open('./loc.txt', 'r')\n",
    "lines = f.readlines()\n",
    "map1 = folium.Map(location=[35.83001,127.125001], zoom_start=13)\n",
    "arr = []\n",
    "for line in lines:\n",
    "    lat,long = map(float, line.split(','))\n",
    "    lat = round(lat,2)\n",
    "    long = round(long,2)\n",
    "    if [lat,long] not in arr:\n",
    "        arr.append([lat,long])\n",
    "\n",
    "for content in arr:\n",
    "    lat,long = content\n",
    "    folium.Marker([long, lat], popup=f'{long}-{lat}의 원룸', icon=folium.Icon(color='red',icon='info-sign')).add_to(map1)\n",
    "    folium.Circle([long, lat], radius=100, color='#3186cc', fill_color='#3186cc', popup=f'{long}-{lat}의 원룸 반경 100M').add_to(map1)\n",
    "    folium.Circle([long, lat], radius=500, color='#ebe134', fill_color='#ebe134', popup=f'{long}-{lat}의 원룸 반경 500m').add_to(map1)\n",
    "map1.save('map1.html')"
   ]
  },
  {
   "cell_type": "code",
   "execution_count": 13,
   "metadata": {},
   "outputs": [
    {
     "name": "stdout",
     "output_type": "stream",
     "text": [
      "1408\n"
     ]
    }
   ],
   "source": [
    "from bs4 import BeautifulSoup\n",
    "\n",
    "url = \"http://openapi.jeonju.go.kr/jeonjubus/openApi/traffic/bus_location2_stopnm_common.do?serviceKey=cjE984BWrGFH3DFA2kLDoNx7j950nWjp6Ajz0CBaEABY5arYHY1C80RNBw6ptmayEV6B0zzpOfAbB73miZ4gnA%3D%3D&searchFld=searchNM&searchNm=%EC%95%88%EA%B3%A8\"\n",
    "response = requests.get(url)\n",
    "data = BeautifulSoup(response.text, 'xml')\n",
    "stopX = data('stopX')\n",
    "stopY = data('stopY')\n",
    "stopKname = data('stopKname')\n",
    "stopId = data('stopStandardid')\n",
    "bus_stop_arr = []\n",
    "\n",
    "for i in range(len(stopX)):\n",
    "    x=float(stopX[i].text)\n",
    "    y=float(stopY[i].text)\n",
    "    name = stopKname[i].text\n",
    "    stop_id = int(str(stopId[i].text).strip())\n",
    "    if 35.78<y and y<35.94 and 127.06<x and x<127.19:\n",
    "        bus_stop_arr.append([x,y,name,stop_id])\n",
    "bus_stop_arr.sort(key=lambda x:x[0])\n",
    "print(len(bus_stop_arr))\n",
    "for element in bus_stop_arr:\n",
    "    if (35.78<element[1] and element[1]<35.94) and (127.06<element[0] and element[0]<127.19):\n",
    "        folium.Marker([element[1], element[0]], popup=f'위도 : {element[1]}-경도 : {element[0]}:{element[2]}', icon=folium.Icon(color='green',icon='info-sign')).add_to(map1)\n",
    "        \n",
    "map1.save('map_bus.html')"
   ]
  },
  {
   "cell_type": "code",
   "execution_count": 14,
   "metadata": {
    "scrolled": true
   },
   "outputs": [
    {
     "name": "stdout",
     "output_type": "stream",
     "text": [
      "[127.11, 35.8]\n",
      "효천초등학교 -( 305032500 ) 0 대\n",
      "효천대방노블랜드 -( 305032497 ) 0 대\n",
      "효천우미린2차아파트 -( 305032501 ) 0 대\n",
      "효천리버클래스아파트 -( 305032498 ) 0 대\n",
      "효천우미린2차아파트 -( 305032502 ) 0 대\n",
      "우전초교 -( 305100488 ) 0 대\n",
      "우전초교 -( 305100485 ) 0 대\n",
      "삼천주공6단지 -( 305100382 ) 0 대\n",
      "삼천주공6단지 -( 305100381 ) 0 대\n",
      "삼천호반리젠시빌 -( 305100412 ) 0 대\n",
      "삼천호반리젠시빌 -( 305100422 ) 0 대\n",
      "삼천신일강변아파트 -( 305100408 ) 0 대\n",
      "삼천신일강변아파트 -( 305100421 ) 0 대\n",
      "총 : 0\n"
     ]
    }
   ],
   "source": [
    "### 반지름 내의 원에 정류장 좌표가 몇 개 있는지 계산\n",
    "\n",
    "for content in arr[-2:-1]:\n",
    "    print(content)\n",
    "    station_count = 0\n",
    "    bus_count = 0\n",
    "    content_lat = content[0]\n",
    "    content_long = content[1]\n",
    "    near_bus_stop = []\n",
    "    bus_route_arr = []\n",
    "    for bus_stop in bus_stop_arr:\n",
    "        if bus_stop[0]>content_lat-0.005 and bus_stop[0]<content_lat+0.005 and bus_stop[1]>content_long-0.005 and bus_stop[1]<content_long+0.005:\n",
    "            near_bus_stop.append(bus_stop)\n",
    "    for bus_stop in near_bus_stop:\n",
    "        if ((content_lat-bus_stop[0])**2+(content_long-bus_stop[1])**2)**(1/2) <= ((content_lat-(content_lat-0.0055))**2+(content_long-(content_long-0.0044))**2)**(1/2):\n",
    "            bus_stop_id = bus_stop[3]\n",
    "            url = f'http://openapi.jeonju.go.kr/jeonjubus/openApi/traffic/general_busstop_common.do?serviceKey=cjE984BWrGFH3DFA2kLDoNx7j950nWjp6Ajz0CBaEABY5arYHY1C80RNBw6ptmayEV6B0zzpOfAbB73miZ4gnA%3D%3D&stopStandardid={bus_stop_id}'\n",
    "            response = requests.get(url)\n",
    "            data = BeautifulSoup(response.text, 'xml')\n",
    "            all_route=data('brtStdId')\n",
    "            this_bus_route_count=0\n",
    "            for route in range(len(all_route)):\n",
    "                route_id = all_route[route]\n",
    "                if route_id not in bus_route_arr:\n",
    "                    bus_route_arr.append(route_id)\n",
    "                    this_bus_route_count+=1\n",
    "#             if this_bus_route_count>=1:\n",
    "            print(bus_stop[2],'-(',bus_stop[3],')',this_bus_route_count,'대')\n",
    "    print('총 :',len(bus_route_arr))"
   ]
  },
  {
   "cell_type": "code",
   "execution_count": null,
   "metadata": {},
   "outputs": [],
   "source": []
  }
 ],
 "metadata": {
  "kernelspec": {
   "display_name": "Python 3",
   "language": "python",
   "name": "python3"
  },
  "language_info": {
   "codemirror_mode": {
    "name": "ipython",
    "version": 3
   },
   "file_extension": ".py",
   "mimetype": "text/x-python",
   "name": "python",
   "nbconvert_exporter": "python",
   "pygments_lexer": "ipython3",
   "version": "3.8.5"
  }
 },
 "nbformat": 4,
 "nbformat_minor": 4
}
